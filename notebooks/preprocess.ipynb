{
 "cells": [
  {
   "cell_type": "code",
   "execution_count": 2,
   "id": "6d9ef32d-cda2-46f1-8cdb-fb76af70e83f",
   "metadata": {},
   "outputs": [],
   "source": [
    "import pandas as pd\n",
    "from sklearn.preprocessing import LabelEncoder\n",
    "from imblearn.over_sampling import SMOTE\n",
    "from transformers import BertTokenizer\n",
    "from nltk.sentiment.vader import SentimentIntensityAnalyzer\n",
    "tokenizer = BertTokenizer.from_pretrained('bert-base-uncased')\n",
    "sia = SentimentIntensityAnalyzer()"
   ]
  },
  {
   "cell_type": "code",
   "execution_count": 13,
   "id": "369c6c7a-4ae9-4180-807a-4674868a52db",
   "metadata": {
    "scrolled": true
   },
   "outputs": [
    {
     "name": "stderr",
     "output_type": "stream",
     "text": [
      "C:\\Users\\olive\\AppData\\Local\\Temp\\ipykernel_39204\\1953875282.py:5: FutureWarning: Setting an item of incompatible dtype is deprecated and will raise an error in a future version of pandas. Value 'Unknown' has dtype incompatible with float64, please explicitly cast to a compatible dtype first.\n",
      "  df.fillna('Unknown', inplace=True)\n"
     ]
    }
   ],
   "source": [
    "# Load data\n",
    "df = pd.read_csv('../data/historical_votes.csv')  # Your rollcalls CSV\n",
    "\n",
    "# Clean\n",
    "df.fillna('Unknown', inplace=True)\n",
    "\n",
    "# Derive 'passed' from vote_result (1=Passed, 0=otherwise)\n",
    "df['passed'] = df['vote_result'].apply(lambda x: 1 if x == 'Passed' else 0)\n",
    "\n",
    "# NLP for vote_desc (as proxy for bill_text; expand later)\n",
    "df['text_tokens'] = df['vote_desc'].apply(lambda x: tokenizer.encode(x, max_length=512, truncation=True)) if 'vote_desc' in df else []\n",
    "\n",
    "# Balance dataset (use features like nominate_mid_1 as ideology proxy for party)\n",
    "X = df.drop('passed', axis=1).select_dtypes(include=['number'])  # Numeric features only (e.g., yea_count, nominate_mid_1)\n",
    "y = df['passed']\n",
    "smote = SMOTE()\n",
    "X_res, y_res = smote.fit_resample(X, y)\n",
    "\n",
    "# Save\n",
    "pd.concat([X_res, y_res], axis=1).to_csv('../data/processed.csv', index=False)\n",
    "\n",
    "# Optional: If adding public_comments.csv sentiment (from earlier)\n",
    "# df_comments = pd.read_csv('data/public_comments.csv')\n",
    "# df_comments['sentiment'] = df_comments['comment'].apply(lambda x: sia.polarity_scores(x)['compound'])\n",
    "# avg_sentiment = df_comments['sentiment'].mean()  # Add as feature to X if linking to bills\n",
    "# df_comments.to_csv('data/processed_comments.csv', index=False)\n",
    "\n",
    "# Ethical: Comments are public; averaged to anonymize; checked for bias in commenter demographics if metadata available"
   ]
  },
  {
   "cell_type": "code",
   "execution_count": null,
   "id": "7211a03d-3c18-473c-9632-5a92726a0995",
   "metadata": {},
   "outputs": [],
   "source": []
  }
 ],
 "metadata": {
  "kernelspec": {
   "display_name": "Python 3 (ipykernel)",
   "language": "python",
   "name": "python3"
  },
  "language_info": {
   "codemirror_mode": {
    "name": "ipython",
    "version": 3
   },
   "file_extension": ".py",
   "mimetype": "text/x-python",
   "name": "python",
   "nbconvert_exporter": "python",
   "pygments_lexer": "ipython3",
   "version": "3.12.2"
  }
 },
 "nbformat": 4,
 "nbformat_minor": 5
}
