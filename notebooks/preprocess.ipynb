{
 "cells": [
  {
   "cell_type": "code",
   "execution_count": 5,
   "id": "369c6c7a-4ae9-4180-807a-4674868a52db",
   "metadata": {
    "scrolled": true
   },
   "outputs": [
    {
     "name": "stderr",
     "output_type": "stream",
     "text": [
      "C:\\Users\\olive\\AppData\\Local\\Temp\\ipykernel_18180\\2783034385.py:18: FutureWarning: Setting an item of incompatible dtype is deprecated and will raise an error in a future version of pandas. Value 'Unknown' has dtype incompatible with float64, please explicitly cast to a compatible dtype first.\n",
      "  df_votes.fillna('Unknown', inplace=True)\n"
     ]
    }
   ],
   "source": [
    "import pandas as pd\n",
    "import numpy as np\n",
    "from sklearn.preprocessing import LabelEncoder\n",
    "from imblearn.over_sampling import SMOTE\n",
    "from transformers import BertTokenizer\n",
    "from nltk.sentiment.vader import SentimentIntensityAnalyzer\n",
    "\n",
    "tokenizer = BertTokenizer.from_pretrained('bert-base-uncased')\n",
    "sia = SentimentIntensityAnalyzer()\n",
    "\n",
    "# Load data with UTF-8 (use ../ to reach root data/)\n",
    "df_votes = pd.read_csv('../data/historical_votes.csv', encoding='utf-8')\n",
    "df_actions = pd.read_csv('../data/bill_actions.csv', encoding='utf-8') if os.path.exists('../data/bill_actions.csv') else pd.DataFrame(columns=['bill_id', 'date', 'text'])\n",
    "df_comments = pd.read_csv('../data/public_comments.csv', encoding='utf-8') if os.path.exists('../data/public_comments.csv') else pd.DataFrame(columns=['comment'])\n",
    "df_bills = pd.read_csv('../data/sample_bill.csv', encoding='utf-8')\n",
    "\n",
    "# Clean votes\n",
    "df_votes.fillna('Unknown', inplace=True)\n",
    "df_votes['passed'] = df_votes['vote_result'].apply(lambda x: 1 if x == 'Passed' else 0)\n",
    "\n",
    "# Derive time-series: Cumulative rolls\n",
    "df_votes['date'] = pd.to_datetime(df_votes['date'], errors='coerce')\n",
    "df_votes = df_votes.sort_values('date')\n",
    "df_votes['cumulative_rolls'] = df_votes.groupby('congress')['rollnumber'].cumsum()\n",
    "\n",
    "# Merge actions (by bill_id if available; else average)\n",
    "if not df_actions.empty:\n",
    "    df_actions['date'] = pd.to_datetime(df_actions['date'], errors='coerce')\n",
    "    action_counts = df_actions.groupby('bill_id').size().reset_index(name='action_count')\n",
    "    df_bills = df_bills.merge(action_counts, on='bill_id', how='left').fillna(0)\n",
    "    # Add to votes (proxy merge on date if bill_id not in votes)\n",
    "    df_votes = df_votes.merge(df_actions.groupby(df_actions['date'].dt.date)['bill_id'].count().reset_index(name='action_count'), how='left', left_on=df_votes['date'].dt.date, right_on='date').fillna(0)\n",
    "else:\n",
    "    df_votes['action_count'] = 0\n",
    "\n",
    "# NLP for vote_desc\n",
    "df_votes['text_tokens'] = df_votes['vote_desc'].apply(lambda x: tokenizer.encode(str(x), max_length=512, truncation=True)) if 'vote_desc' in df_votes else []\n",
    "\n",
    "# Sentiment\n",
    "if not df_comments.empty:\n",
    "    df_comments['sentiment'] = df_comments['comment'].apply(lambda x: sia.polarity_scores(str(x))['compound'])\n",
    "    avg_sentiment = df_comments['sentiment'].mean()\n",
    "    df_votes['sentiment'] = avg_sentiment\n",
    "else:\n",
    "    df_votes['sentiment'] = 0.0\n",
    "\n",
    "# Balance dataset\n",
    "numeric_cols = ['yea_count', 'nay_count', 'nominate_mid_1', 'nominate_mid_2', 'cumulative_rolls', 'action_count', 'sentiment']\n",
    "X = df_votes[numeric_cols].fillna(0)\n",
    "y = df_votes['passed']\n",
    "smote = SMOTE()\n",
    "X_res, y_res = smote.fit_resample(X, y)\n",
    "\n",
    "# Save with tiled dates (repeat original dates to match resampled length)\n",
    "processed_df = pd.DataFrame(X_res, columns=numeric_cols)\n",
    "processed_df['passed'] = y_res\n",
    "original_dates = df_votes['date'].values\n",
    "tiled_dates = np.tile(original_dates, (len(processed_df) // len(original_dates)) + 1)[:len(processed_df)]\n",
    "processed_df['date'] = pd.to_datetime(tiled_dates)\n",
    "processed_df.to_csv('../data/processed.csv', index=False, encoding='utf-8')"
   ]
  },
  {
   "cell_type": "code",
   "execution_count": null,
   "id": "7211a03d-3c18-473c-9632-5a92726a0995",
   "metadata": {},
   "outputs": [],
   "source": []
  }
 ],
 "metadata": {
  "kernelspec": {
   "display_name": "Python 3 (ipykernel)",
   "language": "python",
   "name": "python3"
  },
  "language_info": {
   "codemirror_mode": {
    "name": "ipython",
    "version": 3
   },
   "file_extension": ".py",
   "mimetype": "text/x-python",
   "name": "python",
   "nbconvert_exporter": "python",
   "pygments_lexer": "ipython3",
   "version": "3.12.2"
  }
 },
 "nbformat": 4,
 "nbformat_minor": 5
}
